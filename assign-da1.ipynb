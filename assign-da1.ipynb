{
 "cells": [
  {
   "cell_type": "code",
   "execution_count": 1,
   "id": "472ab1a7",
   "metadata": {
    "_cell_guid": "b1076dfc-b9ad-4769-8c92-a6c4dae69d19",
    "_uuid": "8f2839f25d086af736a60e9eeb907d3b93b6e0e5",
    "execution": {
     "iopub.execute_input": "2022-02-28T15:07:32.737413Z",
     "iopub.status.busy": "2022-02-28T15:07:32.735880Z",
     "iopub.status.idle": "2022-02-28T15:07:32.748532Z",
     "shell.execute_reply": "2022-02-28T15:07:32.749217Z",
     "shell.execute_reply.started": "2022-02-28T11:06:15.887892Z"
    },
    "papermill": {
     "duration": 0.0451,
     "end_time": "2022-02-28T15:07:32.749476",
     "exception": false,
     "start_time": "2022-02-28T15:07:32.704376",
     "status": "completed"
    },
    "tags": []
   },
   "outputs": [
    {
     "name": "stdout",
     "output_type": "stream",
     "text": [
      "/kaggle/input/house-prices-advanced-regression-techniques/sample_submission.csv\n",
      "/kaggle/input/house-prices-advanced-regression-techniques/data_description.txt\n",
      "/kaggle/input/house-prices-advanced-regression-techniques/train.csv\n",
      "/kaggle/input/house-prices-advanced-regression-techniques/test.csv\n"
     ]
    }
   ],
   "source": [
    "# This Python 3 environment comes with many helpful analytics libraries installed\n",
    "# It is defined by the kaggle/python Docker image: https://github.com/kaggle/docker-python\n",
    "# For example, here's several helpful packages to load\n",
    "\n",
    "import numpy as np # linear algebra\n",
    "import pandas as pd # data processing, CSV file I/O (e.g. pd.read_csv)\n",
    "\n",
    "# Input data files are available in the read-only \"../input/\" directory\n",
    "# For example, running this (by clicking run or pressing Shift+Enter) will list all files under the input directory\n",
    "\n",
    "import os\n",
    "for dirname, _, filenames in os.walk('/kaggle/input'):\n",
    "    for filename in filenames:\n",
    "        print(os.path.join(dirname, filename))\n",
    "\n",
    "# You can write up to 20GB to the current directory (/kaggle/working/) that gets preserved as output when you create a version using \"Save & Run All\" \n",
    "# You can also write temporary files to /kaggle/temp/, but they won't be saved outside of the current session"
   ]
  },
  {
   "cell_type": "code",
   "execution_count": 2,
   "id": "a4a064a4",
   "metadata": {
    "execution": {
     "iopub.execute_input": "2022-02-28T15:07:32.806394Z",
     "iopub.status.busy": "2022-02-28T15:07:32.805790Z",
     "iopub.status.idle": "2022-02-28T15:07:36.614839Z",
     "shell.execute_reply": "2022-02-28T15:07:36.614324Z",
     "shell.execute_reply.started": "2022-02-28T14:23:59.83256Z"
    },
    "papermill": {
     "duration": 3.837963,
     "end_time": "2022-02-28T15:07:36.614975",
     "exception": false,
     "start_time": "2022-02-28T15:07:32.777012",
     "status": "completed"
    },
    "tags": []
   },
   "outputs": [],
   "source": [
    "import cupy as cp\n",
    "import cudf as cd\n",
    "import cuml "
   ]
  },
  {
   "cell_type": "code",
   "execution_count": 3,
   "id": "54ece5e1",
   "metadata": {
    "execution": {
     "iopub.execute_input": "2022-02-28T15:07:36.675124Z",
     "iopub.status.busy": "2022-02-28T15:07:36.674556Z",
     "iopub.status.idle": "2022-02-28T15:07:40.171736Z",
     "shell.execute_reply": "2022-02-28T15:07:40.172183Z",
     "shell.execute_reply.started": "2022-02-28T14:24:02.427866Z"
    },
    "papermill": {
     "duration": 3.529823,
     "end_time": "2022-02-28T15:07:40.172334",
     "exception": false,
     "start_time": "2022-02-28T15:07:36.642511",
     "status": "completed"
    },
    "tags": []
   },
   "outputs": [
    {
     "name": "stdout",
     "output_type": "stream",
     "text": [
      "<class 'cudf.core.dataframe.DataFrame'>\n",
      "RangeIndex: 1460 entries, 0 to 1459\n",
      "Data columns (total 81 columns):\n",
      " #   Column         Non-Null Count  Dtype\n",
      "---  ------         --------------  -----\n",
      " 0   Id             1460 non-null   int64\n",
      " 1   MSSubClass     1460 non-null   int64\n",
      " 2   MSZoning       1460 non-null   object\n",
      " 3   LotFrontage    1201 non-null   float64\n",
      " 4   LotArea        1460 non-null   int64\n",
      " 5   Street         1460 non-null   object\n",
      " 6   Alley          91 non-null     object\n",
      " 7   LotShape       1460 non-null   object\n",
      " 8   LandContour    1460 non-null   object\n",
      " 9   Utilities      1460 non-null   object\n",
      " 10  LotConfig      1460 non-null   object\n",
      " 11  LandSlope      1460 non-null   object\n",
      " 12  Neighborhood   1460 non-null   object\n",
      " 13  Condition1     1460 non-null   object\n",
      " 14  Condition2     1460 non-null   object\n",
      " 15  BldgType       1460 non-null   object\n",
      " 16  HouseStyle     1460 non-null   object\n",
      " 17  OverallQual    1460 non-null   int64\n",
      " 18  OverallCond    1460 non-null   int64\n",
      " 19  YearBuilt      1460 non-null   int64\n",
      " 20  YearRemodAdd   1460 non-null   int64\n",
      " 21  RoofStyle      1460 non-null   object\n",
      " 22  RoofMatl       1460 non-null   object\n",
      " 23  Exterior1st    1460 non-null   object\n",
      " 24  Exterior2nd    1460 non-null   object\n",
      " 25  MasVnrType     1452 non-null   object\n",
      " 26  MasVnrArea     1452 non-null   float64\n",
      " 27  ExterQual      1460 non-null   object\n",
      " 28  ExterCond      1460 non-null   object\n",
      " 29  Foundation     1460 non-null   object\n",
      " 30  BsmtQual       1423 non-null   object\n",
      " 31  BsmtCond       1423 non-null   object\n",
      " 32  BsmtExposure   1422 non-null   object\n",
      " 33  BsmtFinType1   1423 non-null   object\n",
      " 34  BsmtFinSF1     1460 non-null   int64\n",
      " 35  BsmtFinType2   1422 non-null   object\n",
      " 36  BsmtFinSF2     1460 non-null   int64\n",
      " 37  BsmtUnfSF      1460 non-null   int64\n",
      " 38  TotalBsmtSF    1460 non-null   int64\n",
      " 39  Heating        1460 non-null   object\n",
      " 40  HeatingQC      1460 non-null   object\n",
      " 41  CentralAir     1460 non-null   object\n",
      " 42  Electrical     1459 non-null   object\n",
      " 43  1stFlrSF       1460 non-null   int64\n",
      " 44  2ndFlrSF       1460 non-null   int64\n",
      " 45  LowQualFinSF   1460 non-null   int64\n",
      " 46  GrLivArea      1460 non-null   int64\n",
      " 47  BsmtFullBath   1460 non-null   int64\n",
      " 48  BsmtHalfBath   1460 non-null   int64\n",
      " 49  FullBath       1460 non-null   int64\n",
      " 50  HalfBath       1460 non-null   int64\n",
      " 51  BedroomAbvGr   1460 non-null   int64\n",
      " 52  KitchenAbvGr   1460 non-null   int64\n",
      " 53  KitchenQual    1460 non-null   object\n",
      " 54  TotRmsAbvGrd   1460 non-null   int64\n",
      " 55  Functional     1460 non-null   object\n",
      " 56  Fireplaces     1460 non-null   int64\n",
      " 57  FireplaceQu    770 non-null    object\n",
      " 58  GarageType     1379 non-null   object\n",
      " 59  GarageYrBlt    1379 non-null   float64\n",
      " 60  GarageFinish   1379 non-null   object\n",
      " 61  GarageCars     1460 non-null   int64\n",
      " 62  GarageArea     1460 non-null   int64\n",
      " 63  GarageQual     1379 non-null   object\n",
      " 64  GarageCond     1379 non-null   object\n",
      " 65  PavedDrive     1460 non-null   object\n",
      " 66  WoodDeckSF     1460 non-null   int64\n",
      " 67  OpenPorchSF    1460 non-null   int64\n",
      " 68  EnclosedPorch  1460 non-null   int64\n",
      " 69  3SsnPorch      1460 non-null   int64\n",
      " 70  ScreenPorch    1460 non-null   int64\n",
      " 71  PoolArea       1460 non-null   int64\n",
      " 72  PoolQC         7 non-null      object\n",
      " 73  Fence          281 non-null    object\n",
      " 74  MiscFeature    54 non-null     object\n",
      " 75  MiscVal        1460 non-null   int64\n",
      " 76  MoSold         1460 non-null   int64\n",
      " 77  YrSold         1460 non-null   int64\n",
      " 78  SaleType       1460 non-null   object\n",
      " 79  SaleCondition  1460 non-null   object\n",
      " 80  SalePrice      1460 non-null   int64\n",
      "dtypes: float64(3), int64(35), object(43)\n",
      "memory usage: 888.7+ KB\n"
     ]
    }
   ],
   "source": [
    "df = cd.read_csv('../input/house-prices-advanced-regression-techniques/train.csv')\n",
    "df.info()"
   ]
  },
  {
   "cell_type": "code",
   "execution_count": 4,
   "id": "64e281cc",
   "metadata": {
    "execution": {
     "iopub.execute_input": "2022-02-28T15:07:40.228455Z",
     "iopub.status.busy": "2022-02-28T15:07:40.227660Z",
     "iopub.status.idle": "2022-02-28T15:07:40.236422Z",
     "shell.execute_reply": "2022-02-28T15:07:40.235943Z",
     "shell.execute_reply.started": "2022-02-28T14:24:06.444642Z"
    },
    "papermill": {
     "duration": 0.03755,
     "end_time": "2022-02-28T15:07:40.236528",
     "exception": false,
     "start_time": "2022-02-28T15:07:40.198978",
     "status": "completed"
    },
    "tags": []
   },
   "outputs": [],
   "source": [
    "columns_needed = []\n",
    "#this is done so as to choose only columns having integer and float datatype as rest of them are not needed\n",
    "for col in df.columns:\n",
    "    if df[col].dtype in ['int64', 'float64', 'int32', 'float32']:\n",
    "        columns_needed.append(col)\n",
    "final_df = df[columns_needed]"
   ]
  },
  {
   "cell_type": "code",
   "execution_count": 5,
   "id": "93a46206",
   "metadata": {
    "execution": {
     "iopub.execute_input": "2022-02-28T15:07:40.295070Z",
     "iopub.status.busy": "2022-02-28T15:07:40.294304Z",
     "iopub.status.idle": "2022-02-28T15:07:40.311555Z",
     "shell.execute_reply": "2022-02-28T15:07:40.311989Z",
     "shell.execute_reply.started": "2022-02-28T14:24:08.57249Z"
    },
    "papermill": {
     "duration": 0.049515,
     "end_time": "2022-02-28T15:07:40.312139",
     "exception": false,
     "start_time": "2022-02-28T15:07:40.262624",
     "status": "completed"
    },
    "tags": []
   },
   "outputs": [
    {
     "name": "stdout",
     "output_type": "stream",
     "text": [
      "<class 'cudf.core.dataframe.DataFrame'>\n",
      "RangeIndex: 1460 entries, 0 to 1459\n",
      "Data columns (total 38 columns):\n",
      " #   Column         Non-Null Count  Dtype\n",
      "---  ------         --------------  -----\n",
      " 0   Id             1460 non-null   int64\n",
      " 1   MSSubClass     1460 non-null   int64\n",
      " 2   LotFrontage    1201 non-null   float64\n",
      " 3   LotArea        1460 non-null   int64\n",
      " 4   OverallQual    1460 non-null   int64\n",
      " 5   OverallCond    1460 non-null   int64\n",
      " 6   YearBuilt      1460 non-null   int64\n",
      " 7   YearRemodAdd   1460 non-null   int64\n",
      " 8   MasVnrArea     1452 non-null   float64\n",
      " 9   BsmtFinSF1     1460 non-null   int64\n",
      " 10  BsmtFinSF2     1460 non-null   int64\n",
      " 11  BsmtUnfSF      1460 non-null   int64\n",
      " 12  TotalBsmtSF    1460 non-null   int64\n",
      " 13  1stFlrSF       1460 non-null   int64\n",
      " 14  2ndFlrSF       1460 non-null   int64\n",
      " 15  LowQualFinSF   1460 non-null   int64\n",
      " 16  GrLivArea      1460 non-null   int64\n",
      " 17  BsmtFullBath   1460 non-null   int64\n",
      " 18  BsmtHalfBath   1460 non-null   int64\n",
      " 19  FullBath       1460 non-null   int64\n",
      " 20  HalfBath       1460 non-null   int64\n",
      " 21  BedroomAbvGr   1460 non-null   int64\n",
      " 22  KitchenAbvGr   1460 non-null   int64\n",
      " 23  TotRmsAbvGrd   1460 non-null   int64\n",
      " 24  Fireplaces     1460 non-null   int64\n",
      " 25  GarageYrBlt    1379 non-null   float64\n",
      " 26  GarageCars     1460 non-null   int64\n",
      " 27  GarageArea     1460 non-null   int64\n",
      " 28  WoodDeckSF     1460 non-null   int64\n",
      " 29  OpenPorchSF    1460 non-null   int64\n",
      " 30  EnclosedPorch  1460 non-null   int64\n",
      " 31  3SsnPorch      1460 non-null   int64\n",
      " 32  ScreenPorch    1460 non-null   int64\n",
      " 33  PoolArea       1460 non-null   int64\n",
      " 34  MiscVal        1460 non-null   int64\n",
      " 35  MoSold         1460 non-null   int64\n",
      " 36  YrSold         1460 non-null   int64\n",
      " 37  SalePrice      1460 non-null   int64\n",
      "dtypes: float64(3), int64(35)\n",
      "memory usage: 434.0 KB\n"
     ]
    }
   ],
   "source": [
    "final_df.info()\n",
    "#now cols are reduced from 81 to 38"
   ]
  },
  {
   "cell_type": "code",
   "execution_count": 6,
   "id": "74cfa8f5",
   "metadata": {
    "execution": {
     "iopub.execute_input": "2022-02-28T15:07:40.369170Z",
     "iopub.status.busy": "2022-02-28T15:07:40.368574Z",
     "iopub.status.idle": "2022-02-28T15:07:42.408066Z",
     "shell.execute_reply": "2022-02-28T15:07:42.408510Z",
     "shell.execute_reply.started": "2022-02-28T14:24:12.257649Z"
    },
    "papermill": {
     "duration": 2.069366,
     "end_time": "2022-02-28T15:07:42.408667",
     "exception": false,
     "start_time": "2022-02-28T15:07:40.339301",
     "status": "completed"
    },
    "tags": []
   },
   "outputs": [],
   "source": [
    "#filling null values\n",
    "final_df.fillna(final_df.mean(),inplace=True)\n"
   ]
  },
  {
   "cell_type": "code",
   "execution_count": 7,
   "id": "069b2e07",
   "metadata": {
    "execution": {
     "iopub.execute_input": "2022-02-28T15:07:42.466583Z",
     "iopub.status.busy": "2022-02-28T15:07:42.465994Z",
     "iopub.status.idle": "2022-02-28T15:07:42.488104Z",
     "shell.execute_reply": "2022-02-28T15:07:42.488516Z",
     "shell.execute_reply.started": "2022-02-28T14:24:14.882726Z"
    },
    "papermill": {
     "duration": 0.052972,
     "end_time": "2022-02-28T15:07:42.488637",
     "exception": false,
     "start_time": "2022-02-28T15:07:42.435665",
     "status": "completed"
    },
    "tags": []
   },
   "outputs": [
    {
     "data": {
      "text/plain": [
       "Id               0\n",
       "MSSubClass       0\n",
       "LotFrontage      0\n",
       "LotArea          0\n",
       "OverallQual      0\n",
       "OverallCond      0\n",
       "YearBuilt        0\n",
       "YearRemodAdd     0\n",
       "MasVnrArea       0\n",
       "BsmtFinSF1       0\n",
       "BsmtFinSF2       0\n",
       "BsmtUnfSF        0\n",
       "TotalBsmtSF      0\n",
       "1stFlrSF         0\n",
       "2ndFlrSF         0\n",
       "LowQualFinSF     0\n",
       "GrLivArea        0\n",
       "BsmtFullBath     0\n",
       "BsmtHalfBath     0\n",
       "FullBath         0\n",
       "HalfBath         0\n",
       "BedroomAbvGr     0\n",
       "KitchenAbvGr     0\n",
       "TotRmsAbvGrd     0\n",
       "Fireplaces       0\n",
       "GarageYrBlt      0\n",
       "GarageCars       0\n",
       "GarageArea       0\n",
       "WoodDeckSF       0\n",
       "OpenPorchSF      0\n",
       "EnclosedPorch    0\n",
       "3SsnPorch        0\n",
       "ScreenPorch      0\n",
       "PoolArea         0\n",
       "MiscVal          0\n",
       "MoSold           0\n",
       "YrSold           0\n",
       "SalePrice        0\n",
       "dtype: uint64"
      ]
     },
     "execution_count": 7,
     "metadata": {},
     "output_type": "execute_result"
    }
   ],
   "source": [
    "final_df.isnull().sum()"
   ]
  },
  {
   "cell_type": "code",
   "execution_count": 8,
   "id": "23a207a1",
   "metadata": {
    "execution": {
     "iopub.execute_input": "2022-02-28T15:07:42.550711Z",
     "iopub.status.busy": "2022-02-28T15:07:42.549951Z",
     "iopub.status.idle": "2022-02-28T15:07:42.552051Z",
     "shell.execute_reply": "2022-02-28T15:07:42.552450Z",
     "shell.execute_reply.started": "2022-02-28T14:24:18.362711Z"
    },
    "papermill": {
     "duration": 0.036921,
     "end_time": "2022-02-28T15:07:42.552562",
     "exception": false,
     "start_time": "2022-02-28T15:07:42.515641",
     "status": "completed"
    },
    "tags": []
   },
   "outputs": [],
   "source": [
    "#indep and dep var\n",
    "X = final_df.iloc[:, 1:-1]\n",
    "Y = final_df.iloc[:,-1]"
   ]
  },
  {
   "cell_type": "code",
   "execution_count": 9,
   "id": "c43587bd",
   "metadata": {
    "execution": {
     "iopub.execute_input": "2022-02-28T15:07:42.631706Z",
     "iopub.status.busy": "2022-02-28T15:07:42.630909Z",
     "iopub.status.idle": "2022-02-28T15:07:42.713645Z",
     "shell.execute_reply": "2022-02-28T15:07:42.714038Z",
     "shell.execute_reply.started": "2022-02-28T14:24:22.16865Z"
    },
    "papermill": {
     "duration": 0.134764,
     "end_time": "2022-02-28T15:07:42.714186",
     "exception": false,
     "start_time": "2022-02-28T15:07:42.579422",
     "status": "completed"
    },
    "tags": []
   },
   "outputs": [
    {
     "data": {
      "text/html": [
       "<div>\n",
       "<style scoped>\n",
       "    .dataframe tbody tr th:only-of-type {\n",
       "        vertical-align: middle;\n",
       "    }\n",
       "\n",
       "    .dataframe tbody tr th {\n",
       "        vertical-align: top;\n",
       "    }\n",
       "\n",
       "    .dataframe thead th {\n",
       "        text-align: right;\n",
       "    }\n",
       "</style>\n",
       "<table border=\"1\" class=\"dataframe\">\n",
       "  <thead>\n",
       "    <tr style=\"text-align: right;\">\n",
       "      <th></th>\n",
       "      <th>MSSubClass</th>\n",
       "      <th>LotFrontage</th>\n",
       "      <th>LotArea</th>\n",
       "      <th>OverallQual</th>\n",
       "      <th>OverallCond</th>\n",
       "      <th>YearBuilt</th>\n",
       "      <th>YearRemodAdd</th>\n",
       "      <th>MasVnrArea</th>\n",
       "      <th>BsmtFinSF1</th>\n",
       "      <th>BsmtFinSF2</th>\n",
       "      <th>...</th>\n",
       "      <th>GarageArea</th>\n",
       "      <th>WoodDeckSF</th>\n",
       "      <th>OpenPorchSF</th>\n",
       "      <th>EnclosedPorch</th>\n",
       "      <th>3SsnPorch</th>\n",
       "      <th>ScreenPorch</th>\n",
       "      <th>PoolArea</th>\n",
       "      <th>MiscVal</th>\n",
       "      <th>MoSold</th>\n",
       "      <th>YrSold</th>\n",
       "    </tr>\n",
       "  </thead>\n",
       "  <tbody>\n",
       "    <tr>\n",
       "      <th>0</th>\n",
       "      <td>60</td>\n",
       "      <td>65.0</td>\n",
       "      <td>8450</td>\n",
       "      <td>7</td>\n",
       "      <td>5</td>\n",
       "      <td>2003</td>\n",
       "      <td>2003</td>\n",
       "      <td>196.0</td>\n",
       "      <td>706</td>\n",
       "      <td>0</td>\n",
       "      <td>...</td>\n",
       "      <td>548</td>\n",
       "      <td>0</td>\n",
       "      <td>61</td>\n",
       "      <td>0</td>\n",
       "      <td>0</td>\n",
       "      <td>0</td>\n",
       "      <td>0</td>\n",
       "      <td>0</td>\n",
       "      <td>2</td>\n",
       "      <td>2008</td>\n",
       "    </tr>\n",
       "    <tr>\n",
       "      <th>1</th>\n",
       "      <td>20</td>\n",
       "      <td>80.0</td>\n",
       "      <td>9600</td>\n",
       "      <td>6</td>\n",
       "      <td>8</td>\n",
       "      <td>1976</td>\n",
       "      <td>1976</td>\n",
       "      <td>0.0</td>\n",
       "      <td>978</td>\n",
       "      <td>0</td>\n",
       "      <td>...</td>\n",
       "      <td>460</td>\n",
       "      <td>298</td>\n",
       "      <td>0</td>\n",
       "      <td>0</td>\n",
       "      <td>0</td>\n",
       "      <td>0</td>\n",
       "      <td>0</td>\n",
       "      <td>0</td>\n",
       "      <td>5</td>\n",
       "      <td>2007</td>\n",
       "    </tr>\n",
       "    <tr>\n",
       "      <th>2</th>\n",
       "      <td>60</td>\n",
       "      <td>68.0</td>\n",
       "      <td>11250</td>\n",
       "      <td>7</td>\n",
       "      <td>5</td>\n",
       "      <td>2001</td>\n",
       "      <td>2002</td>\n",
       "      <td>162.0</td>\n",
       "      <td>486</td>\n",
       "      <td>0</td>\n",
       "      <td>...</td>\n",
       "      <td>608</td>\n",
       "      <td>0</td>\n",
       "      <td>42</td>\n",
       "      <td>0</td>\n",
       "      <td>0</td>\n",
       "      <td>0</td>\n",
       "      <td>0</td>\n",
       "      <td>0</td>\n",
       "      <td>9</td>\n",
       "      <td>2008</td>\n",
       "    </tr>\n",
       "    <tr>\n",
       "      <th>3</th>\n",
       "      <td>70</td>\n",
       "      <td>60.0</td>\n",
       "      <td>9550</td>\n",
       "      <td>7</td>\n",
       "      <td>5</td>\n",
       "      <td>1915</td>\n",
       "      <td>1970</td>\n",
       "      <td>0.0</td>\n",
       "      <td>216</td>\n",
       "      <td>0</td>\n",
       "      <td>...</td>\n",
       "      <td>642</td>\n",
       "      <td>0</td>\n",
       "      <td>35</td>\n",
       "      <td>272</td>\n",
       "      <td>0</td>\n",
       "      <td>0</td>\n",
       "      <td>0</td>\n",
       "      <td>0</td>\n",
       "      <td>2</td>\n",
       "      <td>2006</td>\n",
       "    </tr>\n",
       "    <tr>\n",
       "      <th>4</th>\n",
       "      <td>60</td>\n",
       "      <td>84.0</td>\n",
       "      <td>14260</td>\n",
       "      <td>8</td>\n",
       "      <td>5</td>\n",
       "      <td>2000</td>\n",
       "      <td>2000</td>\n",
       "      <td>350.0</td>\n",
       "      <td>655</td>\n",
       "      <td>0</td>\n",
       "      <td>...</td>\n",
       "      <td>836</td>\n",
       "      <td>192</td>\n",
       "      <td>84</td>\n",
       "      <td>0</td>\n",
       "      <td>0</td>\n",
       "      <td>0</td>\n",
       "      <td>0</td>\n",
       "      <td>0</td>\n",
       "      <td>12</td>\n",
       "      <td>2008</td>\n",
       "    </tr>\n",
       "  </tbody>\n",
       "</table>\n",
       "<p>5 rows × 36 columns</p>\n",
       "</div>"
      ],
      "text/plain": [
       "   MSSubClass  LotFrontage  LotArea  OverallQual  OverallCond  YearBuilt  \\\n",
       "0          60         65.0     8450            7            5       2003   \n",
       "1          20         80.0     9600            6            8       1976   \n",
       "2          60         68.0    11250            7            5       2001   \n",
       "3          70         60.0     9550            7            5       1915   \n",
       "4          60         84.0    14260            8            5       2000   \n",
       "\n",
       "   YearRemodAdd  MasVnrArea  BsmtFinSF1  BsmtFinSF2  ...  GarageArea  \\\n",
       "0          2003       196.0         706           0  ...         548   \n",
       "1          1976         0.0         978           0  ...         460   \n",
       "2          2002       162.0         486           0  ...         608   \n",
       "3          1970         0.0         216           0  ...         642   \n",
       "4          2000       350.0         655           0  ...         836   \n",
       "\n",
       "   WoodDeckSF  OpenPorchSF  EnclosedPorch  3SsnPorch  ScreenPorch  PoolArea  \\\n",
       "0           0           61              0          0            0         0   \n",
       "1         298            0              0          0            0         0   \n",
       "2           0           42              0          0            0         0   \n",
       "3           0           35            272          0            0         0   \n",
       "4         192           84              0          0            0         0   \n",
       "\n",
       "   MiscVal  MoSold  YrSold  \n",
       "0        0       2    2008  \n",
       "1        0       5    2007  \n",
       "2        0       9    2008  \n",
       "3        0       2    2006  \n",
       "4        0      12    2008  \n",
       "\n",
       "[5 rows x 36 columns]"
      ]
     },
     "execution_count": 9,
     "metadata": {},
     "output_type": "execute_result"
    }
   ],
   "source": [
    "X.head()"
   ]
  },
  {
   "cell_type": "code",
   "execution_count": 10,
   "id": "eeb1b6d3",
   "metadata": {
    "execution": {
     "iopub.execute_input": "2022-02-28T15:07:42.774559Z",
     "iopub.status.busy": "2022-02-28T15:07:42.773768Z",
     "iopub.status.idle": "2022-02-28T15:07:42.778559Z",
     "shell.execute_reply": "2022-02-28T15:07:42.778924Z",
     "shell.execute_reply.started": "2022-02-28T14:24:24.813932Z"
    },
    "papermill": {
     "duration": 0.037,
     "end_time": "2022-02-28T15:07:42.779068",
     "exception": false,
     "start_time": "2022-02-28T15:07:42.742068",
     "status": "completed"
    },
    "tags": []
   },
   "outputs": [
    {
     "data": {
      "text/plain": [
       "0    208500\n",
       "1    181500\n",
       "2    223500\n",
       "3    140000\n",
       "4    250000\n",
       "Name: SalePrice, dtype: int64"
      ]
     },
     "execution_count": 10,
     "metadata": {},
     "output_type": "execute_result"
    }
   ],
   "source": [
    "Y.head()"
   ]
  },
  {
   "cell_type": "code",
   "execution_count": 11,
   "id": "5cc22e0a",
   "metadata": {
    "execution": {
     "iopub.execute_input": "2022-02-28T15:07:42.839948Z",
     "iopub.status.busy": "2022-02-28T15:07:42.839147Z",
     "iopub.status.idle": "2022-02-28T15:07:42.901810Z",
     "shell.execute_reply": "2022-02-28T15:07:42.901379Z",
     "shell.execute_reply.started": "2022-02-28T14:24:31.449985Z"
    },
    "papermill": {
     "duration": 0.094612,
     "end_time": "2022-02-28T15:07:42.901926",
     "exception": false,
     "start_time": "2022-02-28T15:07:42.807314",
     "status": "completed"
    },
    "tags": []
   },
   "outputs": [
    {
     "data": {
      "text/plain": [
       "29"
      ]
     },
     "execution_count": 11,
     "metadata": {},
     "output_type": "execute_result"
    }
   ],
   "source": [
    "#finding moderate to highly skewed feature so as to remove high deviation of values from cols\n",
    "skewed_feature = [col for col in X.columns if abs(X[col].skew())>0.5]\n",
    "len(skewed_feature)"
   ]
  },
  {
   "cell_type": "code",
   "execution_count": 12,
   "id": "5a7cf4ef",
   "metadata": {
    "execution": {
     "iopub.execute_input": "2022-02-28T15:07:42.964957Z",
     "iopub.status.busy": "2022-02-28T15:07:42.964190Z",
     "iopub.status.idle": "2022-02-28T15:07:42.969829Z",
     "shell.execute_reply": "2022-02-28T15:07:42.970346Z",
     "shell.execute_reply.started": "2022-02-28T14:24:33.868341Z"
    },
    "papermill": {
     "duration": 0.038393,
     "end_time": "2022-02-28T15:07:42.970478",
     "exception": false,
     "start_time": "2022-02-28T15:07:42.932085",
     "status": "completed"
    },
    "tags": []
   },
   "outputs": [
    {
     "data": {
      "text/plain": [
       "['MSSubClass',\n",
       " 'LotFrontage',\n",
       " 'LotArea',\n",
       " 'OverallCond',\n",
       " 'YearBuilt',\n",
       " 'YearRemodAdd',\n",
       " 'MasVnrArea',\n",
       " 'BsmtFinSF1',\n",
       " 'BsmtFinSF2',\n",
       " 'BsmtUnfSF',\n",
       " 'TotalBsmtSF',\n",
       " '1stFlrSF',\n",
       " '2ndFlrSF',\n",
       " 'LowQualFinSF',\n",
       " 'GrLivArea',\n",
       " 'BsmtFullBath',\n",
       " 'BsmtHalfBath',\n",
       " 'HalfBath',\n",
       " 'KitchenAbvGr',\n",
       " 'TotRmsAbvGrd',\n",
       " 'Fireplaces',\n",
       " 'GarageYrBlt',\n",
       " 'WoodDeckSF',\n",
       " 'OpenPorchSF',\n",
       " 'EnclosedPorch',\n",
       " '3SsnPorch',\n",
       " 'ScreenPorch',\n",
       " 'PoolArea',\n",
       " 'MiscVal']"
      ]
     },
     "execution_count": 12,
     "metadata": {},
     "output_type": "execute_result"
    }
   ],
   "source": [
    "skewed_feature"
   ]
  },
  {
   "cell_type": "code",
   "execution_count": 13,
   "id": "40fc075d",
   "metadata": {
    "execution": {
     "iopub.execute_input": "2022-02-28T15:07:43.033082Z",
     "iopub.status.busy": "2022-02-28T15:07:43.032346Z",
     "iopub.status.idle": "2022-02-28T15:07:43.547865Z",
     "shell.execute_reply": "2022-02-28T15:07:43.547383Z",
     "shell.execute_reply.started": "2022-02-28T14:24:37.191607Z"
    },
    "papermill": {
     "duration": 0.548536,
     "end_time": "2022-02-28T15:07:43.547994",
     "exception": false,
     "start_time": "2022-02-28T15:07:42.999458",
     "status": "completed"
    },
    "tags": []
   },
   "outputs": [],
   "source": [
    "#here I used log method as it is used for higly and moderately skewed cols also whereas other methods like sqrt method works for moderately skewed method only\n",
    "\n",
    "for feature in skewed_feature:\n",
    "    X[feature] = cp.log1p(X[feature])\n"
   ]
  },
  {
   "cell_type": "code",
   "execution_count": 14,
   "id": "49d0ff85",
   "metadata": {
    "execution": {
     "iopub.execute_input": "2022-02-28T15:07:43.615431Z",
     "iopub.status.busy": "2022-02-28T15:07:43.614572Z",
     "iopub.status.idle": "2022-02-28T15:07:51.811910Z",
     "shell.execute_reply": "2022-02-28T15:07:51.810941Z",
     "shell.execute_reply.started": "2022-02-28T14:24:40.169137Z"
    },
    "papermill": {
     "duration": 8.23276,
     "end_time": "2022-02-28T15:07:51.812087",
     "exception": false,
     "start_time": "2022-02-28T15:07:43.579327",
     "status": "completed"
    },
    "tags": []
   },
   "outputs": [],
   "source": [
    "#Mean-centring the features\n",
    "from cuml.preprocessing import StandardScaler\n",
    "std = StandardScaler()\n",
    "X = std.fit_transform(X)"
   ]
  },
  {
   "cell_type": "code",
   "execution_count": 15,
   "id": "d89f526d",
   "metadata": {
    "execution": {
     "iopub.execute_input": "2022-02-28T15:07:51.875522Z",
     "iopub.status.busy": "2022-02-28T15:07:51.874720Z",
     "iopub.status.idle": "2022-02-28T15:07:52.465782Z",
     "shell.execute_reply": "2022-02-28T15:07:52.465119Z",
     "shell.execute_reply.started": "2022-02-28T14:24:42.856102Z"
    },
    "papermill": {
     "duration": 0.624461,
     "end_time": "2022-02-28T15:07:52.465909",
     "exception": false,
     "start_time": "2022-02-28T15:07:51.841448",
     "status": "completed"
    },
    "tags": []
   },
   "outputs": [],
   "source": [
    "from cuml.preprocessing import train_test_split\n",
    "X_train, X_test, Y_train, Y_test = train_test_split(X, Y, train_size=0.9, random_state=29)"
   ]
  },
  {
   "cell_type": "code",
   "execution_count": 16,
   "id": "b55fa84a",
   "metadata": {
    "execution": {
     "iopub.execute_input": "2022-02-28T15:07:52.534901Z",
     "iopub.status.busy": "2022-02-28T15:07:52.534131Z",
     "iopub.status.idle": "2022-02-28T15:07:52.536397Z",
     "shell.execute_reply": "2022-02-28T15:07:52.536801Z",
     "shell.execute_reply.started": "2022-02-28T14:24:45.402019Z"
    },
    "papermill": {
     "duration": 0.039599,
     "end_time": "2022-02-28T15:07:52.536935",
     "exception": false,
     "start_time": "2022-02-28T15:07:52.497336",
     "status": "completed"
    },
    "tags": []
   },
   "outputs": [],
   "source": [
    "#we will make a function which will calculate mean squared error,mean absolute error and r2 score for each of the five models\n",
    "from cuml.metrics.regression import r2_score, mean_absolute_error, mean_squared_error\n",
    "def get_accuracy_check(model,model_name,x_test,y_test):\n",
    "    y_predict = model.predict(x_test)\n",
    "    y_test = y_test.astype('float64')\n",
    "    mse =  mean_squared_error(y_test,y_predict)\n",
    "    mae = mean_absolute_error(y_test,y_predict)\n",
    "    r2 = r2_score(y_test,y_predict)\n",
    "    print(\"MSE for \",model_name, \" is \",mse)\n",
    "    print(\"MAE for \",model_name, \" is \", mae)\n",
    "    print(\"R2_score for \",model_name, \" is \", r2)\n",
    "    return [mse, mae, r2] \n"
   ]
  },
  {
   "cell_type": "code",
   "execution_count": 17,
   "id": "e9a64c25",
   "metadata": {
    "execution": {
     "iopub.execute_input": "2022-02-28T15:07:52.607174Z",
     "iopub.status.busy": "2022-02-28T15:07:52.606163Z",
     "iopub.status.idle": "2022-02-28T15:07:55.667681Z",
     "shell.execute_reply": "2022-02-28T15:07:55.668338Z",
     "shell.execute_reply.started": "2022-02-28T14:29:32.014979Z"
    },
    "papermill": {
     "duration": 3.100194,
     "end_time": "2022-02-28T15:07:55.668489",
     "exception": false,
     "start_time": "2022-02-28T15:07:52.568295",
     "status": "completed"
    },
    "tags": []
   },
   "outputs": [
    {
     "name": "stdout",
     "output_type": "stream",
     "text": [
      "CPU times: user 528 ms, sys: 289 ms, total: 817 ms\n",
      "Wall time: 2.18 s\n",
      "MSE for  eig  is  717286066.245657\n",
      "MAE for  eig  is  20423.08856245204\n",
      "R2_score for  eig  is  0.8310247256392927\n",
      "CPU times: user 4.39 ms, sys: 2.96 ms, total: 7.34 ms\n",
      "Wall time: 15.6 ms\n",
      "MSE for  qr  is  717286066.2456628\n",
      "MAE for  qr  is  20423.088562452125\n",
      "R2_score for  qr  is  0.8310247256392914\n",
      "CPU times: user 9.67 ms, sys: 0 ns, total: 9.67 ms\n",
      "Wall time: 16.4 ms\n",
      "MSE for  svd  is  717286066.2456627\n",
      "MAE for  svd  is  20423.08856245212\n",
      "R2_score for  svd  is  0.8310247256392914\n",
      "CPU times: user 6.74 ms, sys: 1.98 ms, total: 8.73 ms\n",
      "Wall time: 8.53 ms\n",
      "MSE for  svd-jacobi  is  717286066.2456627\n",
      "MAE for  svd-jacobi  is  20423.08856245212\n",
      "R2_score for  svd-jacobi  is  0.8310247256392914\n",
      "CPU times: user 7.42 ms, sys: 1.15 ms, total: 8.57 ms\n",
      "Wall time: 12.4 ms\n",
      "MSE for  svd-qr  is  717286066.2456653\n",
      "MAE for  svd-qr  is  20423.088562452143\n",
      "R2_score for  svd-qr  is  0.8310247256392908\n"
     ]
    }
   ],
   "source": [
    "from cuml.linear_model import LinearRegression\n",
    "algos = [\"eig\", 'qr', \"svd\", \"svd-jacobi\", \"svd-qr\"]\n",
    "metrics = []\n",
    "models = []\n",
    "for algo in algos:\n",
    "    lr = LinearRegression(algorithm=algo)\n",
    "    %time lr.fit(X_train, Y_train)\n",
    "    models.append(lr)\n",
    "    metrics.append(get_accuracy_check(lr, algo, X_test, Y_test))"
   ]
  },
  {
   "cell_type": "markdown",
   "id": "bec7344b",
   "metadata": {
    "papermill": {
     "duration": 0.029206,
     "end_time": "2022-02-28T15:07:55.727277",
     "exception": false,
     "start_time": "2022-02-28T15:07:55.698071",
     "status": "completed"
    },
    "tags": []
   },
   "source": [
    "**Performing same Preprocessing steps on test data**\n",
    " "
   ]
  },
  {
   "cell_type": "code",
   "execution_count": 18,
   "id": "b768a334",
   "metadata": {
    "execution": {
     "iopub.execute_input": "2022-02-28T15:07:55.790189Z",
     "iopub.status.busy": "2022-02-28T15:07:55.789545Z",
     "iopub.status.idle": "2022-02-28T15:07:55.835737Z",
     "shell.execute_reply": "2022-02-28T15:07:55.836143Z",
     "shell.execute_reply.started": "2022-02-28T14:24:53.887156Z"
    },
    "papermill": {
     "duration": 0.079573,
     "end_time": "2022-02-28T15:07:55.836285",
     "exception": false,
     "start_time": "2022-02-28T15:07:55.756712",
     "status": "completed"
    },
    "tags": []
   },
   "outputs": [],
   "source": [
    "df_test = cd.read_csv('../input/house-prices-advanced-regression-techniques/test.csv')"
   ]
  },
  {
   "cell_type": "code",
   "execution_count": 19,
   "id": "74001fc2",
   "metadata": {
    "execution": {
     "iopub.execute_input": "2022-02-28T15:07:55.904672Z",
     "iopub.status.busy": "2022-02-28T15:07:55.903853Z",
     "iopub.status.idle": "2022-02-28T15:07:55.947758Z",
     "shell.execute_reply": "2022-02-28T15:07:55.948210Z",
     "shell.execute_reply.started": "2022-02-28T14:24:55.754852Z"
    },
    "papermill": {
     "duration": 0.082419,
     "end_time": "2022-02-28T15:07:55.948336",
     "exception": false,
     "start_time": "2022-02-28T15:07:55.865917",
     "status": "completed"
    },
    "tags": []
   },
   "outputs": [
    {
     "name": "stdout",
     "output_type": "stream",
     "text": [
      "<class 'cudf.core.dataframe.DataFrame'>\n",
      "RangeIndex: 1459 entries, 0 to 1458\n",
      "Data columns (total 80 columns):\n",
      " #   Column         Non-Null Count  Dtype\n",
      "---  ------         --------------  -----\n",
      " 0   Id             1459 non-null   int64\n",
      " 1   MSSubClass     1459 non-null   int64\n",
      " 2   MSZoning       1455 non-null   object\n",
      " 3   LotFrontage    1232 non-null   float64\n",
      " 4   LotArea        1459 non-null   int64\n",
      " 5   Street         1459 non-null   object\n",
      " 6   Alley          107 non-null    object\n",
      " 7   LotShape       1459 non-null   object\n",
      " 8   LandContour    1459 non-null   object\n",
      " 9   Utilities      1457 non-null   object\n",
      " 10  LotConfig      1459 non-null   object\n",
      " 11  LandSlope      1459 non-null   object\n",
      " 12  Neighborhood   1459 non-null   object\n",
      " 13  Condition1     1459 non-null   object\n",
      " 14  Condition2     1459 non-null   object\n",
      " 15  BldgType       1459 non-null   object\n",
      " 16  HouseStyle     1459 non-null   object\n",
      " 17  OverallQual    1459 non-null   int64\n",
      " 18  OverallCond    1459 non-null   int64\n",
      " 19  YearBuilt      1459 non-null   int64\n",
      " 20  YearRemodAdd   1459 non-null   int64\n",
      " 21  RoofStyle      1459 non-null   object\n",
      " 22  RoofMatl       1459 non-null   object\n",
      " 23  Exterior1st    1458 non-null   object\n",
      " 24  Exterior2nd    1458 non-null   object\n",
      " 25  MasVnrType     1443 non-null   object\n",
      " 26  MasVnrArea     1444 non-null   float64\n",
      " 27  ExterQual      1459 non-null   object\n",
      " 28  ExterCond      1459 non-null   object\n",
      " 29  Foundation     1459 non-null   object\n",
      " 30  BsmtQual       1415 non-null   object\n",
      " 31  BsmtCond       1414 non-null   object\n",
      " 32  BsmtExposure   1415 non-null   object\n",
      " 33  BsmtFinType1   1417 non-null   object\n",
      " 34  BsmtFinSF1     1458 non-null   float64\n",
      " 35  BsmtFinType2   1417 non-null   object\n",
      " 36  BsmtFinSF2     1458 non-null   float64\n",
      " 37  BsmtUnfSF      1458 non-null   float64\n",
      " 38  TotalBsmtSF    1458 non-null   float64\n",
      " 39  Heating        1459 non-null   object\n",
      " 40  HeatingQC      1459 non-null   object\n",
      " 41  CentralAir     1459 non-null   object\n",
      " 42  Electrical     1459 non-null   object\n",
      " 43  1stFlrSF       1459 non-null   int64\n",
      " 44  2ndFlrSF       1459 non-null   int64\n",
      " 45  LowQualFinSF   1459 non-null   int64\n",
      " 46  GrLivArea      1459 non-null   int64\n",
      " 47  BsmtFullBath   1457 non-null   float64\n",
      " 48  BsmtHalfBath   1457 non-null   float64\n",
      " 49  FullBath       1459 non-null   int64\n",
      " 50  HalfBath       1459 non-null   int64\n",
      " 51  BedroomAbvGr   1459 non-null   int64\n",
      " 52  KitchenAbvGr   1459 non-null   int64\n",
      " 53  KitchenQual    1458 non-null   object\n",
      " 54  TotRmsAbvGrd   1459 non-null   int64\n",
      " 55  Functional     1457 non-null   object\n",
      " 56  Fireplaces     1459 non-null   int64\n",
      " 57  FireplaceQu    729 non-null    object\n",
      " 58  GarageType     1383 non-null   object\n",
      " 59  GarageYrBlt    1381 non-null   float64\n",
      " 60  GarageFinish   1381 non-null   object\n",
      " 61  GarageCars     1458 non-null   float64\n",
      " 62  GarageArea     1458 non-null   float64\n",
      " 63  GarageQual     1381 non-null   object\n",
      " 64  GarageCond     1381 non-null   object\n",
      " 65  PavedDrive     1459 non-null   object\n",
      " 66  WoodDeckSF     1459 non-null   int64\n",
      " 67  OpenPorchSF    1459 non-null   int64\n",
      " 68  EnclosedPorch  1459 non-null   int64\n",
      " 69  3SsnPorch      1459 non-null   int64\n",
      " 70  ScreenPorch    1459 non-null   int64\n",
      " 71  PoolArea       1459 non-null   int64\n",
      " 72  PoolQC         3 non-null      object\n",
      " 73  Fence          290 non-null    object\n",
      " 74  MiscFeature    51 non-null     object\n",
      " 75  MiscVal        1459 non-null   int64\n",
      " 76  MoSold         1459 non-null   int64\n",
      " 77  YrSold         1459 non-null   int64\n",
      " 78  SaleType       1458 non-null   object\n",
      " 79  SaleCondition  1459 non-null   object\n",
      "dtypes: float64(11), int64(26), object(43)\n",
      "memory usage: 879.4+ KB\n"
     ]
    }
   ],
   "source": [
    "df_test.info()"
   ]
  },
  {
   "cell_type": "code",
   "execution_count": 20,
   "id": "ef3cc29f",
   "metadata": {
    "execution": {
     "iopub.execute_input": "2022-02-28T15:07:56.012090Z",
     "iopub.status.busy": "2022-02-28T15:07:56.011423Z",
     "iopub.status.idle": "2022-02-28T15:07:56.014166Z",
     "shell.execute_reply": "2022-02-28T15:07:56.013682Z",
     "shell.execute_reply.started": "2022-02-28T14:25:00.025538Z"
    },
    "papermill": {
     "duration": 0.035745,
     "end_time": "2022-02-28T15:07:56.014273",
     "exception": false,
     "start_time": "2022-02-28T15:07:55.978528",
     "status": "completed"
    },
    "tags": []
   },
   "outputs": [],
   "source": [
    "#Because SalePrice Column is Absent in testing dataset\n",
    "columns_needed.remove('SalePrice')"
   ]
  },
  {
   "cell_type": "code",
   "execution_count": 21,
   "id": "d8ca0315",
   "metadata": {
    "execution": {
     "iopub.execute_input": "2022-02-28T15:07:56.079804Z",
     "iopub.status.busy": "2022-02-28T15:07:56.079014Z",
     "iopub.status.idle": "2022-02-28T15:07:56.083966Z",
     "shell.execute_reply": "2022-02-28T15:07:56.083549Z",
     "shell.execute_reply.started": "2022-02-28T14:25:06.926551Z"
    },
    "papermill": {
     "duration": 0.040174,
     "end_time": "2022-02-28T15:07:56.084093",
     "exception": false,
     "start_time": "2022-02-28T15:07:56.043919",
     "status": "completed"
    },
    "tags": []
   },
   "outputs": [],
   "source": [
    "test = df_test[columns_needed].iloc[:, 1:]"
   ]
  },
  {
   "cell_type": "code",
   "execution_count": 22,
   "id": "2c454cf2",
   "metadata": {
    "execution": {
     "iopub.execute_input": "2022-02-28T15:07:56.152764Z",
     "iopub.status.busy": "2022-02-28T15:07:56.151828Z",
     "iopub.status.idle": "2022-02-28T15:07:56.834843Z",
     "shell.execute_reply": "2022-02-28T15:07:56.834383Z",
     "shell.execute_reply.started": "2022-02-28T14:25:09.156327Z"
    },
    "papermill": {
     "duration": 0.720993,
     "end_time": "2022-02-28T15:07:56.834966",
     "exception": false,
     "start_time": "2022-02-28T15:07:56.113973",
     "status": "completed"
    },
    "tags": []
   },
   "outputs": [],
   "source": [
    "test.fillna(test.mean(), inplace=True)"
   ]
  },
  {
   "cell_type": "code",
   "execution_count": 23,
   "id": "4a8756a9",
   "metadata": {
    "execution": {
     "iopub.execute_input": "2022-02-28T15:07:56.904685Z",
     "iopub.status.busy": "2022-02-28T15:07:56.903847Z",
     "iopub.status.idle": "2022-02-28T15:07:56.956979Z",
     "shell.execute_reply": "2022-02-28T15:07:56.956586Z",
     "shell.execute_reply.started": "2022-02-28T14:25:11.890981Z"
    },
    "papermill": {
     "duration": 0.091787,
     "end_time": "2022-02-28T15:07:56.957113",
     "exception": false,
     "start_time": "2022-02-28T15:07:56.865326",
     "status": "completed"
    },
    "tags": []
   },
   "outputs": [
    {
     "data": {
      "text/plain": [
       "26"
      ]
     },
     "execution_count": 23,
     "metadata": {},
     "output_type": "execute_result"
    }
   ],
   "source": [
    "test_skew_features = [col for col in test.columns if abs(test[col].skew()) > 0.5]\n",
    "len(test_skew_features)"
   ]
  },
  {
   "cell_type": "code",
   "execution_count": 24,
   "id": "166d1973",
   "metadata": {
    "execution": {
     "iopub.execute_input": "2022-02-28T15:07:57.028959Z",
     "iopub.status.busy": "2022-02-28T15:07:57.028146Z",
     "iopub.status.idle": "2022-02-28T15:07:57.030968Z",
     "shell.execute_reply": "2022-02-28T15:07:57.031432Z",
     "shell.execute_reply.started": "2022-02-28T14:25:14.127232Z"
    },
    "papermill": {
     "duration": 0.042377,
     "end_time": "2022-02-28T15:07:57.031558",
     "exception": false,
     "start_time": "2022-02-28T15:07:56.989181",
     "status": "completed"
    },
    "tags": []
   },
   "outputs": [
    {
     "data": {
      "text/plain": [
       "['MSSubClass',\n",
       " 'LotFrontage',\n",
       " 'LotArea',\n",
       " 'YearBuilt',\n",
       " 'MasVnrArea',\n",
       " 'BsmtFinSF1',\n",
       " 'BsmtFinSF2',\n",
       " 'BsmtUnfSF',\n",
       " 'TotalBsmtSF',\n",
       " '1stFlrSF',\n",
       " '2ndFlrSF',\n",
       " 'LowQualFinSF',\n",
       " 'GrLivArea',\n",
       " 'BsmtFullBath',\n",
       " 'BsmtHalfBath',\n",
       " 'HalfBath',\n",
       " 'KitchenAbvGr',\n",
       " 'TotRmsAbvGrd',\n",
       " 'Fireplaces',\n",
       " 'WoodDeckSF',\n",
       " 'OpenPorchSF',\n",
       " 'EnclosedPorch',\n",
       " '3SsnPorch',\n",
       " 'ScreenPorch',\n",
       " 'PoolArea',\n",
       " 'MiscVal']"
      ]
     },
     "execution_count": 24,
     "metadata": {},
     "output_type": "execute_result"
    }
   ],
   "source": [
    "test_skew_features"
   ]
  },
  {
   "cell_type": "code",
   "execution_count": 25,
   "id": "4b0a40c4",
   "metadata": {
    "execution": {
     "iopub.execute_input": "2022-02-28T15:07:57.102762Z",
     "iopub.status.busy": "2022-02-28T15:07:57.101926Z",
     "iopub.status.idle": "2022-02-28T15:07:57.116273Z",
     "shell.execute_reply": "2022-02-28T15:07:57.116644Z",
     "shell.execute_reply.started": "2022-02-28T14:25:17.79535Z"
    },
    "papermill": {
     "duration": 0.051318,
     "end_time": "2022-02-28T15:07:57.116770",
     "exception": false,
     "start_time": "2022-02-28T15:07:57.065452",
     "status": "completed"
    },
    "tags": []
   },
   "outputs": [],
   "source": [
    "for feature in test_skew_features:\n",
    "    test[feature] = cp.log1p(test[feature])"
   ]
  },
  {
   "cell_type": "code",
   "execution_count": 26,
   "id": "993fa893",
   "metadata": {
    "execution": {
     "iopub.execute_input": "2022-02-28T15:07:57.185671Z",
     "iopub.status.busy": "2022-02-28T15:07:57.184510Z",
     "iopub.status.idle": "2022-02-28T15:07:57.217705Z",
     "shell.execute_reply": "2022-02-28T15:07:57.217198Z",
     "shell.execute_reply.started": "2022-02-28T14:25:20.331159Z"
    },
    "papermill": {
     "duration": 0.070263,
     "end_time": "2022-02-28T15:07:57.217814",
     "exception": false,
     "start_time": "2022-02-28T15:07:57.147551",
     "status": "completed"
    },
    "tags": []
   },
   "outputs": [
    {
     "data": {
      "text/plain": [
       "(1459, 36)"
      ]
     },
     "execution_count": 26,
     "metadata": {},
     "output_type": "execute_result"
    }
   ],
   "source": [
    "#Mean-centring the features\n",
    "X_test1 = std.fit_transform(test)\n",
    "X_test1.shape"
   ]
  },
  {
   "cell_type": "code",
   "execution_count": 27,
   "id": "93a2ad63",
   "metadata": {
    "execution": {
     "iopub.execute_input": "2022-02-28T15:07:57.341314Z",
     "iopub.status.busy": "2022-02-28T15:07:57.340459Z",
     "iopub.status.idle": "2022-02-28T15:07:57.350467Z",
     "shell.execute_reply": "2022-02-28T15:07:57.350966Z",
     "shell.execute_reply.started": "2022-02-28T14:29:36.63397Z"
    },
    "papermill": {
     "duration": 0.071045,
     "end_time": "2022-02-28T15:07:57.351164",
     "exception": false,
     "start_time": "2022-02-28T15:07:57.280119",
     "status": "completed"
    },
    "tags": []
   },
   "outputs": [],
   "source": [
    "model_used = models[0]\n",
    "Y_pred = model_used.predict(X_test1)"
   ]
  },
  {
   "cell_type": "code",
   "execution_count": 28,
   "id": "61a75531",
   "metadata": {
    "execution": {
     "iopub.execute_input": "2022-02-28T15:07:57.456567Z",
     "iopub.status.busy": "2022-02-28T15:07:57.455793Z",
     "iopub.status.idle": "2022-02-28T15:07:57.527639Z",
     "shell.execute_reply": "2022-02-28T15:07:57.527207Z",
     "shell.execute_reply.started": "2022-02-28T14:42:06.940352Z"
    },
    "papermill": {
     "duration": 0.12652,
     "end_time": "2022-02-28T15:07:57.527738",
     "exception": false,
     "start_time": "2022-02-28T15:07:57.401218",
     "status": "completed"
    },
    "tags": []
   },
   "outputs": [
    {
     "name": "stdout",
     "output_type": "stream",
     "text": [
      "<class 'cudf.core.dataframe.DataFrame'>\n",
      "RangeIndex: 1459 entries, 0 to 1458\n",
      "Data columns (total 2 columns):\n",
      " #   Column     Non-Null Count  Dtype\n",
      "---  ------     --------------  -----\n",
      " 0   Id         1459 non-null   int32\n",
      " 1   SalePrice  1459 non-null   float64\n",
      "dtypes: float64(1), int32(1)\n",
      "memory usage: 17.1 KB\n",
      "None\n"
     ]
    },
    {
     "data": {
      "text/html": [
       "<div>\n",
       "<style scoped>\n",
       "    .dataframe tbody tr th:only-of-type {\n",
       "        vertical-align: middle;\n",
       "    }\n",
       "\n",
       "    .dataframe tbody tr th {\n",
       "        vertical-align: top;\n",
       "    }\n",
       "\n",
       "    .dataframe thead th {\n",
       "        text-align: right;\n",
       "    }\n",
       "</style>\n",
       "<table border=\"1\" class=\"dataframe\">\n",
       "  <thead>\n",
       "    <tr style=\"text-align: right;\">\n",
       "      <th></th>\n",
       "      <th>Id</th>\n",
       "      <th>SalePrice</th>\n",
       "    </tr>\n",
       "  </thead>\n",
       "  <tbody>\n",
       "    <tr>\n",
       "      <th>0</th>\n",
       "      <td>1461</td>\n",
       "      <td>122019.535007</td>\n",
       "    </tr>\n",
       "    <tr>\n",
       "      <th>1</th>\n",
       "      <td>1462</td>\n",
       "      <td>167221.184528</td>\n",
       "    </tr>\n",
       "    <tr>\n",
       "      <th>2</th>\n",
       "      <td>1463</td>\n",
       "      <td>185760.562714</td>\n",
       "    </tr>\n",
       "    <tr>\n",
       "      <th>3</th>\n",
       "      <td>1464</td>\n",
       "      <td>207450.881976</td>\n",
       "    </tr>\n",
       "    <tr>\n",
       "      <th>4</th>\n",
       "      <td>1465</td>\n",
       "      <td>211844.303723</td>\n",
       "    </tr>\n",
       "    <tr>\n",
       "      <th>...</th>\n",
       "      <td>...</td>\n",
       "      <td>...</td>\n",
       "    </tr>\n",
       "    <tr>\n",
       "      <th>1454</th>\n",
       "      <td>2915</td>\n",
       "      <td>41503.973476</td>\n",
       "    </tr>\n",
       "    <tr>\n",
       "      <th>1455</th>\n",
       "      <td>2916</td>\n",
       "      <td>56371.432833</td>\n",
       "    </tr>\n",
       "    <tr>\n",
       "      <th>1456</th>\n",
       "      <td>2917</td>\n",
       "      <td>178542.516911</td>\n",
       "    </tr>\n",
       "    <tr>\n",
       "      <th>1457</th>\n",
       "      <td>2918</td>\n",
       "      <td>102974.618384</td>\n",
       "    </tr>\n",
       "    <tr>\n",
       "      <th>1458</th>\n",
       "      <td>2919</td>\n",
       "      <td>253920.500853</td>\n",
       "    </tr>\n",
       "  </tbody>\n",
       "</table>\n",
       "<p>1459 rows × 2 columns</p>\n",
       "</div>"
      ],
      "text/plain": [
       "        Id      SalePrice\n",
       "0     1461  122019.535007\n",
       "1     1462  167221.184528\n",
       "2     1463  185760.562714\n",
       "3     1464  207450.881976\n",
       "4     1465  211844.303723\n",
       "...    ...            ...\n",
       "1454  2915   41503.973476\n",
       "1455  2916   56371.432833\n",
       "1456  2917  178542.516911\n",
       "1457  2918  102974.618384\n",
       "1458  2919  253920.500853\n",
       "\n",
       "[1459 rows x 2 columns]"
      ]
     },
     "execution_count": 28,
     "metadata": {},
     "output_type": "execute_result"
    }
   ],
   "source": [
    "predictions = {\n",
    "    'Id': df_test['Id'].astype('int32'),\n",
    "    'SalePrice': Y_pred,\n",
    "}\n",
    "sub = cd.DataFrame(predictions)\n",
    "print(sub.info())\n",
    "sub\n"
   ]
  },
  {
   "cell_type": "code",
   "execution_count": 29,
   "id": "10ae353a",
   "metadata": {
    "execution": {
     "iopub.execute_input": "2022-02-28T15:07:57.634603Z",
     "iopub.status.busy": "2022-02-28T15:07:57.633808Z",
     "iopub.status.idle": "2022-02-28T15:07:57.642450Z",
     "shell.execute_reply": "2022-02-28T15:07:57.643221Z",
     "shell.execute_reply.started": "2022-02-28T14:48:51.647309Z"
    },
    "papermill": {
     "duration": 0.064783,
     "end_time": "2022-02-28T15:07:57.643387",
     "exception": false,
     "start_time": "2022-02-28T15:07:57.578604",
     "status": "completed"
    },
    "tags": []
   },
   "outputs": [],
   "source": [
    "sub.to_csv('submission.csv', index=False)"
   ]
  },
  {
   "cell_type": "code",
   "execution_count": null,
   "id": "3813ecfa",
   "metadata": {
    "papermill": {
     "duration": 0.050772,
     "end_time": "2022-02-28T15:07:57.745525",
     "exception": false,
     "start_time": "2022-02-28T15:07:57.694753",
     "status": "completed"
    },
    "tags": []
   },
   "outputs": [],
   "source": []
  }
 ],
 "metadata": {
  "kernelspec": {
   "display_name": "Python 3",
   "language": "python",
   "name": "python3"
  },
  "language_info": {
   "codemirror_mode": {
    "name": "ipython",
    "version": 3
   },
   "file_extension": ".py",
   "mimetype": "text/x-python",
   "name": "python",
   "nbconvert_exporter": "python",
   "pygments_lexer": "ipython3",
   "version": "3.7.12"
  },
  "papermill": {
   "default_parameters": {},
   "duration": 34.02799,
   "end_time": "2022-02-28T15:07:59.098139",
   "environment_variables": {},
   "exception": null,
   "input_path": "__notebook__.ipynb",
   "output_path": "__notebook__.ipynb",
   "parameters": {},
   "start_time": "2022-02-28T15:07:25.070149",
   "version": "2.3.3"
  }
 },
 "nbformat": 4,
 "nbformat_minor": 5
}
